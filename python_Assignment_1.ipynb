{
  "nbformat": 4,
  "nbformat_minor": 0,
  "metadata": {
    "colab": {
      "provenance": [],
      "authorship_tag": "ABX9TyPajVN0GKKyxyeNWbuB+q8s",
      "include_colab_link": true
    },
    "kernelspec": {
      "name": "python3",
      "display_name": "Python 3"
    },
    "language_info": {
      "name": "python"
    }
  },
  "cells": [
    {
      "cell_type": "markdown",
      "metadata": {
        "id": "view-in-github",
        "colab_type": "text"
      },
      "source": [
        "<a href=\"https://colab.research.google.com/github/SHAWEJ/python-programming-2/blob/main/python_Assignment_1.ipynb\" target=\"_parent\"><img src=\"https://colab.research.google.com/assets/colab-badge.svg\" alt=\"Open In Colab\"/></a>"
      ]
    },
    {
      "cell_type": "code",
      "execution_count": null,
      "metadata": {
        "id": "dTntTpfJWYlH"
      },
      "outputs": [],
      "source": []
    },
    {
      "cell_type": "markdown",
      "metadata": {
        "id": "gs6JvD06aflC"
      },
      "source": [
        "**Section A: FUNDAMENTALS OF PYTHON**"
      ]
    },
    {
      "cell_type": "code",
      "execution_count": 1,
      "metadata": {
        "colab": {
          "base_uri": "https://localhost:8080/"
        },
        "id": "CRBXyWEdP8re",
        "outputId": "60d15ae8-9d71-448c-e182-db2d4cb9377c"
      },
      "outputs": [
        {
          "output_type": "stream",
          "name": "stdout",
          "text": [
            "Hello Python\n"
          ]
        }
      ],
      "source": [
        "# Write a python program to print\"hello python\"\n",
        "a= \"Hello Python\"\n",
        "print(a)"
      ]
    },
    {
      "cell_type": "code",
      "execution_count": 2,
      "metadata": {
        "colab": {
          "base_uri": "https://localhost:8080/"
        },
        "id": "UTXQZq-DXcHA",
        "outputId": "0db1b864-d50d-4d01-b93d-7139e1b8f0e2"
      },
      "outputs": [
        {
          "output_type": "stream",
          "name": "stdout",
          "text": [
            "30\n",
            "2.0\n"
          ]
        }
      ],
      "source": [
        "# Write a python program to do arithmetical operations addition and division.\n",
        "a=20\n",
        "b=10\n",
        "print(a+b)\n",
        "print(a/b)"
      ]
    },
    {
      "cell_type": "code",
      "execution_count": 3,
      "metadata": {
        "colab": {
          "base_uri": "https://localhost:8080/"
        },
        "id": "qjPApNgdba02",
        "outputId": "043a2e7a-5925-44af-ab34-6f85cf4cccaf"
      },
      "outputs": [
        {
          "output_type": "stream",
          "name": "stdout",
          "text": [
            "900.0\n"
          ]
        }
      ],
      "source": [
        "# Write a python program to find the area of a triangle.\n",
        "base=30\n",
        "height=60\n",
        "print(0.5*base*height)"
      ]
    },
    {
      "cell_type": "code",
      "execution_count": 4,
      "metadata": {
        "colab": {
          "base_uri": "https://localhost:8080/"
        },
        "id": "I6yfnX3WcPwd",
        "outputId": "677adfac-e4ea-4e10-8e47-7191262b5d33"
      },
      "outputs": [
        {
          "output_type": "stream",
          "name": "stdout",
          "text": [
            "a=  20\n",
            "b=  10\n"
          ]
        }
      ],
      "source": [
        "# Write a python program to swap two variables.\n",
        "a=10\n",
        "b=20\n",
        "a,b=b,a\n",
        "print(\"a= \",a)\n",
        "print(\"b= \",b)"
      ]
    },
    {
      "cell_type": "code",
      "execution_count": 5,
      "metadata": {
        "colab": {
          "base_uri": "https://localhost:8080/"
        },
        "id": "RxGeUUgid8fj",
        "outputId": "3fad005a-b679-4b97-d3af-72ef28ce1556"
      },
      "outputs": [
        {
          "output_type": "stream",
          "name": "stdout",
          "text": [
            "Number=  0.07725185280994917\n"
          ]
        }
      ],
      "source": [
        "# Write a python program to generate a random number.\n",
        "import random\n",
        "n=random.random()\n",
        "print(\"Number= \",n)"
      ]
    },
    {
      "cell_type": "markdown",
      "metadata": {
        "id": "eoKOUn8S_zem"
      },
      "source": [
        "***Section B:***"
      ]
    },
    {
      "cell_type": "code",
      "execution_count": 7,
      "metadata": {
        "colab": {
          "base_uri": "https://localhost:8080/"
        },
        "id": "duCu9Aaq_9om",
        "outputId": "9f424d5b-b040-4cf2-ddde-cf63fe36a8bb"
      },
      "outputs": [
        {
          "output_type": "stream",
          "name": "stdout",
          "text": [
            "enter kilometer value: 20\n",
            "20.0 kilometer is equal to 12.42742 miles\n"
          ]
        }
      ],
      "source": [
        "# Write a python program to convert kilometer to miles.\n",
        "kilometer = float(input(\"enter kilometer value: \"))\n",
        "miles = kilometer*0.621371\n",
        "print(kilometer,\"kilometer is equal to\",miles,\"miles\") "
      ]
    },
    {
      "cell_type": "code",
      "execution_count": null,
      "metadata": {
        "id": "3ulXyPXkA8bA"
      },
      "outputs": [],
      "source": [
        "# Write a python program to convert celsius to fahrenheit.\n",
        "celsius = float(input(\"enter the value of temperatue in degree celsius: \"))\n",
        "fahrenheit = (celsius*1.8) + 32\n",
        "print(celsius,\"degree celsius is equal to\",fahrenheit,\"fahrenheit\")"
      ]
    },
    {
      "cell_type": "code",
      "execution_count": null,
      "metadata": {
        "colab": {
          "base_uri": "https://localhost:8080/"
        },
        "id": "7Xy0BPS7DCIF",
        "outputId": "8bc79f2f-7456-446d-ef1d-e26c460a1880"
      },
      "outputs": [
        {
          "output_type": "stream",
          "name": "stdout",
          "text": [
            "enter the year: 2006\n",
            "enter the month: 10\n",
            "    October 2006\n",
            "Mo Tu We Th Fr Sa Su\n",
            "                   1\n",
            " 2  3  4  5  6  7  8\n",
            " 9 10 11 12 13 14 15\n",
            "16 17 18 19 20 21 22\n",
            "23 24 25 26 27 28 29\n",
            "30 31\n",
            "\n"
          ]
        }
      ],
      "source": [
        "# write a python program to display calendar.\n",
        "import calendar \n",
        "year = int(input(\"enter the year: \"))\n",
        "mon= int(input(\"enter the month: \"))\n",
        "print(calendar.month(year,mon))"
      ]
    },
    {
      "cell_type": "code",
      "source": [
        "# Write a p[ython program to display calendar.\n",
        "import calendar\n",
        "yy= 2024\n",
        "print(calendar.calendar(yy))"
      ],
      "metadata": {
        "colab": {
          "base_uri": "https://localhost:8080/"
        },
        "id": "4yszfQ67VFBT",
        "outputId": "5420dab3-602d-4692-ca6a-2acc1491eb37"
      },
      "execution_count": 8,
      "outputs": [
        {
          "output_type": "stream",
          "name": "stdout",
          "text": [
            "                                  2024\n",
            "\n",
            "      January                   February                   March\n",
            "Mo Tu We Th Fr Sa Su      Mo Tu We Th Fr Sa Su      Mo Tu We Th Fr Sa Su\n",
            " 1  2  3  4  5  6  7                1  2  3  4                   1  2  3\n",
            " 8  9 10 11 12 13 14       5  6  7  8  9 10 11       4  5  6  7  8  9 10\n",
            "15 16 17 18 19 20 21      12 13 14 15 16 17 18      11 12 13 14 15 16 17\n",
            "22 23 24 25 26 27 28      19 20 21 22 23 24 25      18 19 20 21 22 23 24\n",
            "29 30 31                  26 27 28 29               25 26 27 28 29 30 31\n",
            "\n",
            "       April                      May                       June\n",
            "Mo Tu We Th Fr Sa Su      Mo Tu We Th Fr Sa Su      Mo Tu We Th Fr Sa Su\n",
            " 1  2  3  4  5  6  7             1  2  3  4  5                      1  2\n",
            " 8  9 10 11 12 13 14       6  7  8  9 10 11 12       3  4  5  6  7  8  9\n",
            "15 16 17 18 19 20 21      13 14 15 16 17 18 19      10 11 12 13 14 15 16\n",
            "22 23 24 25 26 27 28      20 21 22 23 24 25 26      17 18 19 20 21 22 23\n",
            "29 30                     27 28 29 30 31            24 25 26 27 28 29 30\n",
            "\n",
            "        July                     August                  September\n",
            "Mo Tu We Th Fr Sa Su      Mo Tu We Th Fr Sa Su      Mo Tu We Th Fr Sa Su\n",
            " 1  2  3  4  5  6  7                1  2  3  4                         1\n",
            " 8  9 10 11 12 13 14       5  6  7  8  9 10 11       2  3  4  5  6  7  8\n",
            "15 16 17 18 19 20 21      12 13 14 15 16 17 18       9 10 11 12 13 14 15\n",
            "22 23 24 25 26 27 28      19 20 21 22 23 24 25      16 17 18 19 20 21 22\n",
            "29 30 31                  26 27 28 29 30 31         23 24 25 26 27 28 29\n",
            "                                                    30\n",
            "\n",
            "      October                   November                  December\n",
            "Mo Tu We Th Fr Sa Su      Mo Tu We Th Fr Sa Su      Mo Tu We Th Fr Sa Su\n",
            "    1  2  3  4  5  6                   1  2  3                         1\n",
            " 7  8  9 10 11 12 13       4  5  6  7  8  9 10       2  3  4  5  6  7  8\n",
            "14 15 16 17 18 19 20      11 12 13 14 15 16 17       9 10 11 12 13 14 15\n",
            "21 22 23 24 25 26 27      18 19 20 21 22 23 24      16 17 18 19 20 21 22\n",
            "28 29 30 31               25 26 27 28 29 30         23 24 25 26 27 28 29\n",
            "                                                    30 31\n",
            "\n"
          ]
        }
      ]
    },
    {
      "cell_type": "code",
      "source": [
        "# Write a python program to solve quadratic equation.\n",
        "import cmath\n",
        "a = 1\n",
        "b = 5\n",
        "c = 6\n",
        "d = (b**2)-(4*a*c)\n",
        "sol1 = (-b-cmath.sqrt(d))/(2*a)\n",
        "sol2 = (-b+cmath.sqrt(d))/(2*a)\n",
        "print('The solutions are {0} and {1}'.format(sol1,sol2))"
      ],
      "metadata": {
        "colab": {
          "base_uri": "https://localhost:8080/"
        },
        "id": "F5tdISDaIeqV",
        "outputId": "d1a6b94d-acd7-423a-ef77-fef2ba5c5e9c"
      },
      "execution_count": 9,
      "outputs": [
        {
          "output_type": "stream",
          "name": "stdout",
          "text": [
            "The solutions are (-3+0j) and (-2+0j)\n"
          ]
        }
      ]
    },
    {
      "cell_type": "code",
      "source": [
        "# Write a python program to swap two variables without temp variable.\n",
        "x = 10\n",
        "y = 5\n",
        "x = x+y\n",
        "y = x-y\n",
        "x = x-y\n",
        "print('After swapping: x =',x,'y=',y)"
      ],
      "metadata": {
        "colab": {
          "base_uri": "https://localhost:8080/"
        },
        "id": "JdG4SiVqKfov",
        "outputId": "4273fe7f-6a42-48c1-b0eb-b117be6afd3f"
      },
      "execution_count": 10,
      "outputs": [
        {
          "output_type": "stream",
          "name": "stdout",
          "text": [
            "After swapping: x = 5 y= 10\n"
          ]
        }
      ]
    },
    {
      "cell_type": "code",
      "source": [
        "# Write a python program to check if a number is positive,negative or zero.\n",
        "num = float(input(\"Enter a number: \"))\n",
        "if num >= 0:\n",
        "  if num == 0:\n",
        "    print(\"Zero\")\n",
        "  else:\n",
        "    print(\"Positive number\")\n",
        "else:\n",
        "  print(\"Negative number\")    "
      ],
      "metadata": {
        "id": "DsAwAMHhNdKC",
        "colab": {
          "base_uri": "https://localhost:8080/"
        },
        "outputId": "fd09587a-9877-4809-c281-34a38079141b"
      },
      "execution_count": 11,
      "outputs": [
        {
          "output_type": "stream",
          "name": "stdout",
          "text": [
            "Enter a number: 25\n",
            "Positive number\n"
          ]
        }
      ]
    },
    {
      "cell_type": "code",
      "source": [
        "# Write a python program to check if a number is odd or even.\n",
        "num = int(input(\"Enter a number:\"))\n",
        "if (num%2)==0:\n",
        "  print(\"{0} is Even\".format(num))\n",
        "else:\n",
        "  print(\"{0} is Odd\".format(num))  "
      ],
      "metadata": {
        "colab": {
          "base_uri": "https://localhost:8080/"
        },
        "id": "x6O1ppnpQXUR",
        "outputId": "5f27fa12-06e3-4e46-cc86-73862de0d018"
      },
      "execution_count": 12,
      "outputs": [
        {
          "output_type": "stream",
          "name": "stdout",
          "text": [
            "Enter a number:5\n",
            "5 is Odd\n"
          ]
        }
      ]
    },
    {
      "cell_type": "code",
      "source": [
        "# Write a python program to check leap year. \n",
        "year = int(input(\"Enter a year: \"))\n",
        "if ((year % 4 == 0) and (year % 100 == 0) or (year%400 == 0)):\n",
        "  print(\"{0} is a leap year\".format(year))\n",
        "else:\n",
        "  print(\"{0} is not a leap year\".format(year))   "
      ],
      "metadata": {
        "colab": {
          "base_uri": "https://localhost:8080/"
        },
        "id": "KAc0YMdoRMVF",
        "outputId": "6f428709-612b-4ed9-ff7e-df5b4688897c"
      },
      "execution_count": 13,
      "outputs": [
        {
          "output_type": "stream",
          "name": "stdout",
          "text": [
            "Enter a year: 24\n",
            "24 is not a leap year\n"
          ]
        }
      ]
    },
    {
      "cell_type": "code",
      "source": [
        "# Write a python program to check prime number.\n",
        "num = int(input(\"Enter a number: \"))\n",
        "flag = False\n",
        "if num > 1:\n",
        "  for i in range(2,num):\n",
        "    flag = True\n",
        "    break\n",
        "if flag:\n",
        "  print(num, \"is not a prime number\")\n",
        "else:\n",
        "  print(num, \"is a prime number\")"
      ],
      "metadata": {
        "colab": {
          "base_uri": "https://localhost:8080/"
        },
        "id": "NBkUif-WSVCt",
        "outputId": "c2191848-e79e-4042-f4d6-1e3bb5eee3d1"
      },
      "execution_count": 14,
      "outputs": [
        {
          "output_type": "stream",
          "name": "stdout",
          "text": [
            "Enter a number: 24\n",
            "24 is not a prime number\n"
          ]
        }
      ]
    },
    {
      "cell_type": "code",
      "source": [
        "# Write a python program to print all prime numbers in an interval of 1-10000.\n",
        "lower = int(input(\"Enter lower range: \"))\n",
        "upper = int(input(\"Enter upper range: \"))\n",
        "print(\"Prime numbers between\",lower, \"and\", upper, \"are:\")\n",
        "for num in range(lower ,upper + 1):\n",
        "  if num > 1:\n",
        "    for i in range(2, num):\n",
        "      if (num % i) == 0:\n",
        "        break\n",
        "    else:\n",
        "        print(num)"
      ],
      "metadata": {
        "id": "zza9_AxbWBzt",
        "colab": {
          "base_uri": "https://localhost:8080/"
        },
        "outputId": "d2281ba3-82ef-4e8a-99cb-5110299977c8"
      },
      "execution_count": 15,
      "outputs": [
        {
          "output_type": "stream",
          "name": "stdout",
          "text": [
            "Enter lower range: 4\n",
            "Enter upper range: 6\n",
            "Prime numbers between 4 and 6 are:\n",
            "5\n"
          ]
        }
      ]
    },
    {
      "cell_type": "markdown",
      "source": [
        "***section:D***"
      ],
      "metadata": {
        "id": "V_t3Ipj-XwMa"
      }
    },
    {
      "cell_type": "code",
      "source": [
        "# Write a python program to find the factorial of a number.\n",
        "num = int(input(\"Enter a number: \"))\n",
        "factorial = 1\n",
        "if num < 0:\n",
        "  print(\"Sorry, factorial does not exist for negative numbers\")\n",
        "elif num == 0:\n",
        "  print(\"the factorial of 0 is 1\")\n",
        "else:\n",
        "  for i in range(1,num + 1):\n",
        "    factorial = factorial*i\n",
        "  print(\"The factorial of\",num,\"is\",factorial)"
      ],
      "metadata": {
        "colab": {
          "base_uri": "https://localhost:8080/"
        },
        "id": "-BMLlcSAXp80",
        "outputId": "dfdc23b1-924e-4ef0-f99f-680f4c9efa7b"
      },
      "execution_count": 16,
      "outputs": [
        {
          "output_type": "stream",
          "name": "stdout",
          "text": [
            "Enter a number: 5\n",
            "The factorial of 5 is 120\n"
          ]
        }
      ]
    },
    {
      "cell_type": "code",
      "source": [
        "# Write a python program to display the multiplication table.\n",
        "num = int(input(\"Display multiplication table of: \"))\n",
        "for i in range(1,11):\n",
        "  print(num,\"x\", i, \"=\",num*i)"
      ],
      "metadata": {
        "colab": {
          "base_uri": "https://localhost:8080/"
        },
        "id": "WFY9isIqZT3u",
        "outputId": "a8b653d3-37fc-4185-fe81-32e53804726f"
      },
      "execution_count": 17,
      "outputs": [
        {
          "output_type": "stream",
          "name": "stdout",
          "text": [
            "Display multiplication table of: 8\n",
            "8 x 1 = 8\n",
            "8 x 2 = 16\n",
            "8 x 3 = 24\n",
            "8 x 4 = 32\n",
            "8 x 5 = 40\n",
            "8 x 6 = 48\n",
            "8 x 7 = 56\n",
            "8 x 8 = 64\n",
            "8 x 9 = 72\n",
            "8 x 10 = 80\n"
          ]
        }
      ]
    },
    {
      "cell_type": "code",
      "source": [
        "# Write a python program to print fibonacci sequence.\n",
        "nterms = int(input(\"How many terms?\"))\n",
        "n1, n2 = 0, 1\n",
        "count = 0\n",
        "if nterms <= 0:\n",
        "  print(\"please enter a positive integer\")\n",
        "elif nterms == 1:\n",
        "  print(\"Fibonacci sequence upto\",nterms,\":\")\n",
        "  print(n1)\n",
        "else:\n",
        "  print(\"Fibonacci sequence:\")\n",
        "  while count < nterms:\n",
        "    print(n1)\n",
        "    nth = n1 + n2\n",
        "    n1 = n2\n",
        "    n2 = nth\n",
        "    count +=1"
      ],
      "metadata": {
        "colab": {
          "base_uri": "https://localhost:8080/"
        },
        "id": "7qMYMAlRcwHe",
        "outputId": "84255d27-731b-4fde-fc65-80dbf72cdc05"
      },
      "execution_count": 18,
      "outputs": [
        {
          "output_type": "stream",
          "name": "stdout",
          "text": [
            "How many terms?85\n",
            "Fibonacci sequence:\n",
            "0\n",
            "1\n",
            "1\n",
            "2\n",
            "3\n",
            "5\n",
            "8\n",
            "13\n",
            "21\n",
            "34\n",
            "55\n",
            "89\n",
            "144\n",
            "233\n",
            "377\n",
            "610\n",
            "987\n",
            "1597\n",
            "2584\n",
            "4181\n",
            "6765\n",
            "10946\n",
            "17711\n",
            "28657\n",
            "46368\n",
            "75025\n",
            "121393\n",
            "196418\n",
            "317811\n",
            "514229\n",
            "832040\n",
            "1346269\n",
            "2178309\n",
            "3524578\n",
            "5702887\n",
            "9227465\n",
            "14930352\n",
            "24157817\n",
            "39088169\n",
            "63245986\n",
            "102334155\n",
            "165580141\n",
            "267914296\n",
            "433494437\n",
            "701408733\n",
            "1134903170\n",
            "1836311903\n",
            "2971215073\n",
            "4807526976\n",
            "7778742049\n",
            "12586269025\n",
            "20365011074\n",
            "32951280099\n",
            "53316291173\n",
            "86267571272\n",
            "139583862445\n",
            "225851433717\n",
            "365435296162\n",
            "591286729879\n",
            "956722026041\n",
            "1548008755920\n",
            "2504730781961\n",
            "4052739537881\n",
            "6557470319842\n",
            "10610209857723\n",
            "17167680177565\n",
            "27777890035288\n",
            "44945570212853\n",
            "72723460248141\n",
            "117669030460994\n",
            "190392490709135\n",
            "308061521170129\n",
            "498454011879264\n",
            "806515533049393\n",
            "1304969544928657\n",
            "2111485077978050\n",
            "3416454622906707\n",
            "5527939700884757\n",
            "8944394323791464\n",
            "14472334024676221\n",
            "23416728348467685\n",
            "37889062373143906\n",
            "61305790721611591\n",
            "99194853094755497\n",
            "160500643816367088\n"
          ]
        }
      ]
    },
    {
      "cell_type": "code",
      "source": [
        "# Write a python program to check armstrong number.\n",
        "num = int(input(\"Enter a number: \"))\n",
        "sum = 0\n",
        "temp = num\n",
        "while temp > 0:\n",
        "  digit = temp % 10\n",
        "  sum += digit**3\n",
        "  temp //= 10\n",
        "if num == sum:\n",
        "  print(num,\"is an Armstrong number.\")\n",
        "else:\n",
        "  print(num,\"is not an Armstrong number.\")"
      ],
      "metadata": {
        "colab": {
          "base_uri": "https://localhost:8080/"
        },
        "id": "vpOK9-74c3qt",
        "outputId": "e3044e62-c0de-4994-c8e9-d710ea0dd697"
      },
      "execution_count": 19,
      "outputs": [
        {
          "output_type": "stream",
          "name": "stdout",
          "text": [
            "Enter a number: 5\n",
            "5 is not an Armstrong number.\n"
          ]
        }
      ]
    },
    {
      "cell_type": "code",
      "source": [
        "# Write a python program to find armstrong number in an interval.\n",
        "lower = int(input(\"Enter lower range: \"))\n",
        "upper = int(input(\"Enter upper range: \"))\n",
        "for num in range(lower , upper + 1):\n",
        "  order = len(str(num))\n",
        "  sum = 0\n",
        "  temp = num\n",
        "  while temp > 0:\n",
        "    digit = temp % 10\n",
        "    sum += digit**order\n",
        "    temp//= 10\n",
        "  if num == sum:\n",
        "    print(num)"
      ],
      "metadata": {
        "colab": {
          "base_uri": "https://localhost:8080/"
        },
        "id": "eaRCFmXadBEH",
        "outputId": "e0bd2010-7c45-42aa-f92f-b7dcb1d32930"
      },
      "execution_count": 20,
      "outputs": [
        {
          "name": "stdout",
          "output_type": "stream",
          "text": [
            "Enter lower range: 7\n",
            "Enter upper range: 3\n"
          ]
        }
      ]
    },
    {
      "cell_type": "code",
      "source": [
        "# Write a python program to find the sum of natural numbers.\n",
        "num = int(input(\"Enter a number upto which you want to sum: \"))\n",
        "if num < 0:\n",
        "  print(\"Enter a positive number\")\n",
        "else:\n",
        "  sum = 0\n",
        "  while(num > 0):\n",
        "    sum += num\n",
        "    num -= 1\n",
        "  print(\"The sum is\", sum)"
      ],
      "metadata": {
        "id": "aigbPXJDdT8B",
        "colab": {
          "base_uri": "https://localhost:8080/"
        },
        "outputId": "fab042ed-e463-480b-c602-8d5bcecaf00d"
      },
      "execution_count": 21,
      "outputs": [
        {
          "output_type": "stream",
          "name": "stdout",
          "text": [
            "Enter a number upto which you want to sum: 7\n",
            "The sum is 28\n"
          ]
        }
      ]
    },
    {
      "cell_type": "markdown",
      "source": [
        "***section:E***"
      ],
      "metadata": {
        "id": "kcf19sh9dbrD"
      }
    },
    {
      "cell_type": "code",
      "source": [
        "#Write a python program to find sum of array.\n",
        "def _sum(arr):\n",
        "  sum=0\n",
        "  for i in arr:\n",
        "    sum = sum+i\n",
        "  return(sum)\n",
        "arr = [34,23,4,21,2]\n",
        "n = len(arr)\n",
        "ans = _sum(arr)\n",
        "print(\"sum of the narray is \",ans)"
      ],
      "metadata": {
        "id": "9vY3KrudiFhM",
        "colab": {
          "base_uri": "https://localhost:8080/"
        },
        "outputId": "95f5741a-ba85-4236-b672-154f299181e0"
      },
      "execution_count": 22,
      "outputs": [
        {
          "output_type": "stream",
          "name": "stdout",
          "text": [
            "sum of the narray is  84\n"
          ]
        }
      ]
    },
    {
      "cell_type": "code",
      "source": [
        "#Write a python program to find largest element in an array.\n",
        "def largest(arr, n):\n",
        "    arr.sort()\n",
        "    return arr [n-1]\n",
        "arr = [324,888,32,45]\n",
        "n= len(arr)\n",
        "a= largest(arr,n)\n",
        "print(\"Largest in given array\", largest(arr,n)) "
      ],
      "metadata": {
        "id": "KYuXFWcxIW_v",
        "colab": {
          "base_uri": "https://localhost:8080/"
        },
        "outputId": "4332d45d-ff89-452e-a647-a002eed42eaa"
      },
      "execution_count": 23,
      "outputs": [
        {
          "output_type": "stream",
          "name": "stdout",
          "text": [
            "Largest in given array 888\n"
          ]
        }
      ]
    },
    {
      "cell_type": "code",
      "source": [
        "#Write a python program for array rotation.\n",
        "arr = [1,2,3,4,5]\n",
        "n = 3\n",
        "\n",
        "print(\"Original array= \")\n",
        "for i in range(0,len(arr)):\n",
        "  print(arr[i])\n",
        "\n",
        "for i in range(0,n):\n",
        "    first = arr[0]\n",
        "    for j in range(0,len(arr)-1):\n",
        "      arr[j] = arr[j+1]\n",
        "    arr[len(arr)-1] = first\n",
        "print(\"Array after left rotation = \")\n",
        "for i in range(0,len(arr)):\n",
        "  print(arr[i])\n",
        "    "
      ],
      "metadata": {
        "id": "tMEhFdJ9Ja6a",
        "colab": {
          "base_uri": "https://localhost:8080/"
        },
        "outputId": "3c1912af-d764-4534-bf8f-b2a841709dcc"
      },
      "execution_count": 24,
      "outputs": [
        {
          "output_type": "stream",
          "name": "stdout",
          "text": [
            "Original array= \n",
            "1\n",
            "2\n",
            "3\n",
            "4\n",
            "5\n",
            "Array after left rotation = \n",
            "4\n",
            "5\n",
            "1\n",
            "2\n",
            "3\n"
          ]
        }
      ]
    },
    {
      "cell_type": "code",
      "source": [
        "#Write a python program to split the array nd add the first part to end.\n",
        "def splitArr(a, n, k):\n",
        "    b = a[ :k]\n",
        "    return(a[k::]+b[::])\n",
        "arr = [12, 10, 5, 6, 52, 36]\n",
        "n = len(arr)\n",
        "position = 2\n",
        "arr = splitArr(arr,n,position)\n",
        "for i in range(0, n):\n",
        "    print(arr[i], end =' ')"
      ],
      "metadata": {
        "id": "m1zOKxHLLcQW",
        "colab": {
          "base_uri": "https://localhost:8080/"
        },
        "outputId": "4ef8810f-216b-4053-b835-4eafc2672c1e"
      },
      "execution_count": 25,
      "outputs": [
        {
          "output_type": "stream",
          "name": "stdout",
          "text": [
            "5 6 52 36 12 10 "
          ]
        }
      ]
    },
    {
      "cell_type": "code",
      "source": [
        "#Write a python program to check if given array is monotonic.\n",
        "def isMonotonic(A):\n",
        "  return(all(A[i]<= A[i+1] for i in range(len(A) -1))or all(A[i] >= A[i+1] for i in range(len(A) - 1)))\n",
        "A = [6,5,4,4]\n",
        "print(isMonotonic(A))"
      ],
      "metadata": {
        "id": "3bCPyq2WMyc9",
        "colab": {
          "base_uri": "https://localhost:8080/"
        },
        "outputId": "5da7cfae-fe70-4277-ca62-ebe22ddf6219"
      },
      "execution_count": 26,
      "outputs": [
        {
          "output_type": "stream",
          "name": "stdout",
          "text": [
            "True\n"
          ]
        }
      ]
    },
    {
      "cell_type": "markdown",
      "source": [
        "***section:F***"
      ],
      "metadata": {
        "id": "Iy0C2tCAP699"
      }
    },
    {
      "cell_type": "code",
      "source": [
        "# Write a python program to find sum of elements in list.\n",
        "def _sum(arr):\n",
        "  sum = 0\n",
        "  for i in arr:\n",
        "    sum = sum + i\n",
        "  return(sum)\n",
        "lst = [2,6,7,13,5]\n",
        "d = _sum(lst)\n",
        "print(d)"
      ],
      "metadata": {
        "id": "MSYXNEIiOYJ8",
        "colab": {
          "base_uri": "https://localhost:8080/"
        },
        "outputId": "218c2d25-08f9-4d2d-c99d-7329a90137c7"
      },
      "execution_count": 27,
      "outputs": [
        {
          "output_type": "stream",
          "name": "stdout",
          "text": [
            "33\n"
          ]
        }
      ]
    },
    {
      "cell_type": "code",
      "source": [
        "#Write a python program to multiply all numbers in a list.\n",
        "list1 = [1,2,3]\n",
        "list2 = [3,2,4]\n",
        "from functools import reduce\n",
        "import operator\n",
        "print(reduce(operator.mul,list1,1))\n",
        "print(reduce(operator.mul,list2,1))"
      ],
      "metadata": {
        "id": "nNdiZfdXO8K_",
        "colab": {
          "base_uri": "https://localhost:8080/"
        },
        "outputId": "ad88dac9-6c15-4a06-ddbe-94a9a8f6dfdb"
      },
      "execution_count": 28,
      "outputs": [
        {
          "output_type": "stream",
          "name": "stdout",
          "text": [
            "6\n",
            "24\n"
          ]
        }
      ]
    },
    {
      "cell_type": "code",
      "source": [
        "# Write a python program to find smallest number in a list.\n",
        "list1 = [10,20,1,45,99]\n",
        "print(\"Smallest element is:\",min(list1))"
      ],
      "metadata": {
        "id": "2PF8LarqPwi1",
        "colab": {
          "base_uri": "https://localhost:8080/"
        },
        "outputId": "3ae8fb55-4804-4c82-be5c-f7ba527af9fd"
      },
      "execution_count": 29,
      "outputs": [
        {
          "output_type": "stream",
          "name": "stdout",
          "text": [
            "Smallest element is: 1\n"
          ]
        }
      ]
    },
    {
      "cell_type": "code",
      "source": [
        "# Write a python program to find largest number in a list.\n",
        "list2 = [10,20,1,45,99]\n",
        "print(\"Largest element is:\",max(list2))"
      ],
      "metadata": {
        "id": "xPJEHDEEQqdF",
        "colab": {
          "base_uri": "https://localhost:8080/"
        },
        "outputId": "e4a355f2-75dd-447e-811d-394a43c3d753"
      },
      "execution_count": 30,
      "outputs": [
        {
          "output_type": "stream",
          "name": "stdout",
          "text": [
            "Largest element is: 99\n"
          ]
        }
      ]
    },
    {
      "cell_type": "code",
      "source": [
        "# Write a python program to find Second largest number in a list.\n",
        "list1 = [10,20,20,4,45,45,99,99]\n",
        "new_list = set(list1)\n",
        "new_list.remove(max(new_list))\n",
        "print(max(new_list))"
      ],
      "metadata": {
        "id": "7yml9zxWQ_Z9",
        "colab": {
          "base_uri": "https://localhost:8080/"
        },
        "outputId": "14f60b16-7022-46cc-b95c-89ad5ca43350"
      },
      "execution_count": 31,
      "outputs": [
        {
          "output_type": "stream",
          "name": "stdout",
          "text": [
            "45\n"
          ]
        }
      ]
    },
    {
      "cell_type": "code",
      "source": [
        "# Write a python program to find N largest number in a list.\n",
        "l = [1000,298,400,300,234,-57,4325]\n",
        "n = int(input(\"How many largest element you want \"))\n",
        "l.sort()\n",
        "print(l[-n:])"
      ],
      "metadata": {
        "id": "dMcJOdn4RwlG",
        "colab": {
          "base_uri": "https://localhost:8080/"
        },
        "outputId": "b5372fa2-cb78-4bf8-af7a-6ee60c90f014"
      },
      "execution_count": 32,
      "outputs": [
        {
          "output_type": "stream",
          "name": "stdout",
          "text": [
            "How many largest element you want 55\n",
            "[-57, 234, 298, 300, 400, 1000, 4325]\n"
          ]
        }
      ]
    },
    {
      "cell_type": "code",
      "source": [
        "# Write a python program to print even number in a list.\n",
        "#By usiong for loop.\n",
        "list1 = [10,21,4,45,66,93]\n",
        "for num in list1:\n",
        "  if num%2 ==0:\n",
        "    print(num,end=\" \")"
      ],
      "metadata": {
        "id": "VcsN97KHTMm_",
        "colab": {
          "base_uri": "https://localhost:8080/"
        },
        "outputId": "c09f4a20-0f6e-4a2e-8512-d79fb2179295"
      },
      "execution_count": 33,
      "outputs": [
        {
          "output_type": "stream",
          "name": "stdout",
          "text": [
            "10 4 66 "
          ]
        }
      ]
    },
    {
      "cell_type": "code",
      "source": [
        "# Write a python program to print even numbers in a list.\n",
        "# By using While loop.\n",
        "\n",
        "list1 = [10,24,4,45,66,93]\n",
        "num = 0 \n",
        "while(num < len(list1)):\n",
        "   if list1[num] % 2 == 0:\n",
        "      print(list1[num],end=\" \")\n",
        "   num += 1"
      ],
      "metadata": {
        "id": "ElZWwCrqThTk",
        "colab": {
          "base_uri": "https://localhost:8080/"
        },
        "outputId": "e2864a0b-6ccb-423f-a798-b969a3c2a99e"
      },
      "execution_count": 34,
      "outputs": [
        {
          "output_type": "stream",
          "name": "stdout",
          "text": [
            "10 24 4 66 "
          ]
        }
      ]
    },
    {
      "cell_type": "code",
      "source": [
        "# Write a python program to print odd numbers in a list.\n",
        "# By using for loop.\n",
        "list2 = [10,21,4,45,66,93]\n",
        "for num in list1:\n",
        "  if num%2!=0:\n",
        "    print(num,end =\" \")"
      ],
      "metadata": {
        "id": "D97cvUSbUBqJ",
        "colab": {
          "base_uri": "https://localhost:8080/"
        },
        "outputId": "070ce795-fe1b-4697-8479-822351154d1f"
      },
      "execution_count": 35,
      "outputs": [
        {
          "output_type": "stream",
          "name": "stdout",
          "text": [
            "45 93 "
          ]
        }
      ]
    },
    {
      "cell_type": "code",
      "source": [
        "# Write a python program to print odd numbers in a list.\n",
        "# By using While loop.\n",
        "list2 = [10,21,4,45,66,93]\n",
        "i =0\n",
        "while(i< len(list2)):\n",
        "  if list2[i] % 2 !=0:\n",
        "    print(list2[i],end=\" \")\n",
        "  i += 1"
      ],
      "metadata": {
        "id": "gyRhPxTrUZ8l",
        "colab": {
          "base_uri": "https://localhost:8080/"
        },
        "outputId": "15eac938-c5af-48df-92e1-f8eafbdefdb9"
      },
      "execution_count": 36,
      "outputs": [
        {
          "output_type": "stream",
          "name": "stdout",
          "text": [
            "21 45 93 "
          ]
        }
      ]
    },
    {
      "cell_type": "code",
      "source": [
        "# Write a python program to Remove empty list from list.\n",
        "test_list = [5,6,[],3,[],[],9]\n",
        "print(\"The original list is : \" + str(test_list))\n",
        "while [] in test_list:\n",
        "  test_list.remove([])\n",
        "print(\"List after empty list removal: \" + str(test_list))"
      ],
      "metadata": {
        "id": "eGsUUBLAVHpA",
        "colab": {
          "base_uri": "https://localhost:8080/"
        },
        "outputId": "a74fd69d-ecdb-4fd4-fc5d-3332660e0a29"
      },
      "execution_count": 37,
      "outputs": [
        {
          "output_type": "stream",
          "name": "stdout",
          "text": [
            "The original list is : [5, 6, [], 3, [], [], 9]\n",
            "List after empty list removal: [5, 6, 3, 9]\n"
          ]
        }
      ]
    },
    {
      "cell_type": "code",
      "source": [
        "# Write a python program to Cloning or Copying a list.\n",
        "def Cloning(li1):\n",
        "    li_copy = li1.copy()\n",
        "    return li_copy\n",
        "li1 = [4,8,2,10,15,18]\n",
        "li2 = Cloning(li1)\n",
        "print(\"Original list: \",li1)\n",
        "print(\"After Clloning: \",li2)"
      ],
      "metadata": {
        "id": "nuMCRHH5W3xg",
        "colab": {
          "base_uri": "https://localhost:8080/"
        },
        "outputId": "0316f445-7825-4d91-8c83-2a16875bb545"
      },
      "execution_count": 38,
      "outputs": [
        {
          "output_type": "stream",
          "name": "stdout",
          "text": [
            "Original list:  [4, 8, 2, 10, 15, 18]\n",
            "After Clloning:  [4, 8, 2, 10, 15, 18]\n"
          ]
        }
      ]
    },
    {
      "cell_type": "code",
      "source": [
        "# Write a python program to count occurrence of elelment in a list.\n",
        "def countX(lst,x):\n",
        "    return lst.count(x)\n",
        "lst = [8,6,8,10,8,20,10,8,8,9]\n",
        "x = 8\n",
        "print(\"{} has occurred {} times\".format(x,countX(lst,x)))"
      ],
      "metadata": {
        "id": "uJUY5jCOXyCD",
        "colab": {
          "base_uri": "https://localhost:8080/"
        },
        "outputId": "94eb773f-750c-488a-f93f-9a40d647d9ba"
      },
      "execution_count": 39,
      "outputs": [
        {
          "output_type": "stream",
          "name": "stdout",
          "text": [
            "8 has occurred 5 times\n"
          ]
        }
      ]
    }
  ]
}