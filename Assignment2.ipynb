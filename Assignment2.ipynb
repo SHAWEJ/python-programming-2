{
  "nbformat": 4,
  "nbformat_minor": 0,
  "metadata": {
    "colab": {
      "provenance": [],
      "authorship_tag": "ABX9TyOfkcN5TN2P9XcC5FfnUlmM",
      "include_colab_link": true
    },
    "kernelspec": {
      "name": "python3",
      "display_name": "Python 3"
    },
    "language_info": {
      "name": "python"
    }
  },
  "cells": [
    {
      "cell_type": "markdown",
      "metadata": {
        "id": "view-in-github",
        "colab_type": "text"
      },
      "source": [
        "<a href=\"https://colab.research.google.com/github/SHAWEJ/python-programming-2/blob/main/Assignment2.ipynb\" target=\"_parent\"><img src=\"https://colab.research.google.com/assets/colab-badge.svg\" alt=\"Open In Colab\"/></a>"
      ]
    },
    {
      "cell_type": "markdown",
      "source": [
        "section A"
      ],
      "metadata": {
        "id": "cGiBvkmJpHD6"
      }
    },
    {
      "cell_type": "code",
      "execution_count": 4,
      "metadata": {
        "colab": {
          "base_uri": "https://localhost:8080/"
        },
        "id": "qYFJTjKyoul7",
        "outputId": "52510889-451c-4d60-dd9d-4ee4436064fe"
      },
      "outputs": [
        {
          "output_type": "stream",
          "name": "stdout",
          "text": [
            "3\n",
            "0\n"
          ]
        }
      ],
      "source": [
        "\"1)Create a function that takes three integer arguments (a, b, c) and returns the amount of integers which are of equal value.\"\n",
        "def sum(x, y, z):\n",
        "  if x == y or y == z or z == x:\n",
        "    sum = 3\n",
        "  else:\n",
        "    sum = 0\n",
        "  return sum\n",
        "print(sum(5, 5, 5))\n",
        "print(sum(3, 4, 1))\n",
        "\n"
      ]
    },
    {
      "cell_type": "code",
      "source": [
        "\"2)Write a function that converts a dictionary into a list of keys-values tuples.\"\n",
        "\n",
        "def DtoLoT(dict):\n",
        "    dict = {'om':33, 'ajay':63, 'chetan':25, 'vedant':45}\n",
        "    list = [(k, v) for k, v in dict.items()]\n",
        "\n",
        "    list.sort(key = lambda x: x[0])\n",
        "    return list\n",
        "\n",
        "print(DtoLoT(dict))\n",
        "\n"
      ],
      "metadata": {
        "colab": {
          "base_uri": "https://localhost:8080/"
        },
        "id": "thhU09Y3pX90",
        "outputId": "6ddcb908-325f-4333-8957-a520bfe7f46f"
      },
      "execution_count": 5,
      "outputs": [
        {
          "output_type": "stream",
          "name": "stdout",
          "text": [
            "[('ajay', 63), ('chetan', 25), ('om', 33), ('vedant', 45)]\n"
          ]
        }
      ]
    },
    {
      "cell_type": "code",
      "source": [
        "\"3)Write a function that creates a dictionary with each (key, value) pair being the (lower case, upper case) versions of a letter, respectively.\"\n",
        "\n",
        "def function2(list):\n",
        " list = [\"a\", \"b\", \"c\", \"d\"]\n",
        " b = dict((i, i.upper()) for i in list)\n",
        " return b\n",
        "    \n",
        "print(function2(list))\n",
        "\n",
        "{'a': 'A', 'b': 'B', 'c': 'C', 'd': 'D'}\n",
        "\n"
      ],
      "metadata": {
        "colab": {
          "base_uri": "https://localhost:8080/"
        },
        "id": "dvY_3JccpjTj",
        "outputId": "b5424eda-1d84-4ef9-df40-8e9dd5a324fd"
      },
      "execution_count": 6,
      "outputs": [
        {
          "output_type": "stream",
          "name": "stdout",
          "text": [
            "{'a': 'A', 'b': 'B', 'c': 'C', 'd': 'D'}\n"
          ]
        },
        {
          "output_type": "execute_result",
          "data": {
            "text/plain": [
              "{'a': 'A', 'b': 'B', 'c': 'C', 'd': 'D'}"
            ]
          },
          "metadata": {},
          "execution_count": 6
        }
      ]
    },
    {
      "cell_type": "code",
      "source": [
        "\"4)Write a function, that replaces all vowels in a string with a specified vowel.\"\n",
        "\n",
        "def replaceVowels(str, K):\n",
        "    vowels = 'aeiou'\n",
        "    for i in vowels:\n",
        "        str = str.replace(i, K)\n",
        "    return str\n",
        "input_str = \"Python is computer language\"\n",
        "K = \"e\"\n",
        "print(\"Input string =\", input_str)\n",
        "print(\"Specified vowel =\", K)\n",
        "print(\"After replacing =\", replaceVowels(input_str, K))\n"
      ],
      "metadata": {
        "colab": {
          "base_uri": "https://localhost:8080/"
        },
        "id": "Qr2mtHYBqN7P",
        "outputId": "14eaa302-c915-4242-c965-af8b2c1e4685"
      },
      "execution_count": 9,
      "outputs": [
        {
          "output_type": "stream",
          "name": "stdout",
          "text": [
            "Input string = Python is computer language\n",
            "Specified vowel = e\n",
            "After replacing = Pythen es cempeter lengeege\n"
          ]
        }
      ]
    },
    {
      "cell_type": "code",
      "source": [
        "#5)Create a function that takes a string as input and capitalizes a letter if its ASCII code is even and returns its lower case version if its ASCII code is odd.\n",
        "\n",
        "def Python(sy):\n",
        "  ab = []\n",
        "  for index, c in enumerate(sy):\n",
        "    if index % 2 == 0:\n",
        "      ab.append(c.upper())\n",
        "    else:\n",
        "      ab.append(c.lower())\n",
        "  return '' .join(ab)\n",
        "print(Python(\"Python is computer language:\"))\n",
        "\n"
      ],
      "metadata": {
        "colab": {
          "base_uri": "https://localhost:8080/"
        },
        "id": "IIIeb1P-qdJa",
        "outputId": "db2c3536-1268-49e7-9fbd-7e84e1125afa"
      },
      "execution_count": 10,
      "outputs": [
        {
          "output_type": "stream",
          "name": "stdout",
          "text": [
            "PyThOn iS CoMpUtEr lAnGuAgE:\n"
          ]
        }
      ]
    },
    {
      "cell_type": "code",
      "source": [
        "\n",
        "\n",
        "#SECTION B\n",
        "\n",
        "def fact(n):\n",
        "  fact=1\n",
        "  for i in range(1,n+1):\n",
        "    fact=fact*i\n",
        "  print(fact)  \n",
        "fact(5)\n",
        "\n"
      ],
      "metadata": {
        "colab": {
          "base_uri": "https://localhost:8080/"
        },
        "id": "mu_HyToAqrZo",
        "outputId": "53f600d8-a1ff-4016-e1ff-4f6b1bab2c26"
      },
      "execution_count": 11,
      "outputs": [
        {
          "output_type": "stream",
          "name": "stdout",
          "text": [
            "120\n"
          ]
        }
      ]
    },
    {
      "cell_type": "code",
      "source": [
        "def rotate(a,d):\n",
        "    n=len(a)\n",
        "    a[:]=a[d:n]+a[0:d]\n",
        "    return a\n",
        "a = [3,4,5,6,8,9,1]\n",
        "print(\"Rotated list is\")\n",
        "print(rotate(a,1))"
      ],
      "metadata": {
        "colab": {
          "base_uri": "https://localhost:8080/"
        },
        "id": "CSJu3pjvqw2g",
        "outputId": "4cc062f6-3765-41e8-e01b-cae35a43029d"
      },
      "execution_count": 12,
      "outputs": [
        {
          "output_type": "stream",
          "name": "stdout",
          "text": [
            "Rotated list is\n",
            "[4, 5, 6, 8, 9, 1, 3]\n"
          ]
        }
      ]
    },
    {
      "cell_type": "code",
      "source": [
        "colors={}\n",
        "def insert(a):\n",
        "  if a in colors:\n",
        "    colors[a]+=1\n",
        "  else:\n",
        "    colors[a]=1  \n",
        "insert('Red')\n",
        "insert('green')\n",
        "insert('Blue')\n",
        "insert('White')\n",
        "insert('Red')\n",
        "print(len(colors))"
      ],
      "metadata": {
        "colab": {
          "base_uri": "https://localhost:8080/"
        },
        "id": "OzTxEq7_q0HG",
        "outputId": "db2e7860-4cbe-406a-fe50-bfd419cb5945"
      },
      "execution_count": 13,
      "outputs": [
        {
          "output_type": "stream",
          "name": "stdout",
          "text": [
            "4\n"
          ]
        }
      ]
    },
    {
      "cell_type": "code",
      "source": [
        "def sumlist(list):\n",
        "    sum=0\n",
        "    for i in range(len(list)):\n",
        "        sum = sum+list[i]\n",
        "    return sum\n",
        "list = [20,40,60]\n",
        "print(list)\n",
        "print(\"sum of list: \",sumlist(list))"
      ],
      "metadata": {
        "colab": {
          "base_uri": "https://localhost:8080/"
        },
        "id": "y2xZvzIfq3d6",
        "outputId": "2876fdcc-a0ea-4fc2-e2a7-d1b2378369c3"
      },
      "execution_count": 14,
      "outputs": [
        {
          "output_type": "stream",
          "name": "stdout",
          "text": [
            "[20, 40, 60]\n",
            "sum of list:  120\n"
          ]
        }
      ]
    },
    {
      "cell_type": "code",
      "source": [
        "def mul_list(list) :         \n",
        "    product = 1\n",
        "    for i in list:\n",
        "         product = product * i\n",
        "    return product     \n",
        "list1 = [5,6,7,8]\n",
        "print(list1)\n",
        "print(\"product: \") \n",
        "print(mul_list(list1))"
      ],
      "metadata": {
        "colab": {
          "base_uri": "https://localhost:8080/"
        },
        "id": "Her4P-ADq6sH",
        "outputId": "448a2275-fd7f-4140-f14d-7be213880c7a"
      },
      "execution_count": 15,
      "outputs": [
        {
          "output_type": "stream",
          "name": "stdout",
          "text": [
            "[5, 6, 7, 8]\n",
            "product: \n",
            "1680\n"
          ]
        }
      ]
    }
  ]
}